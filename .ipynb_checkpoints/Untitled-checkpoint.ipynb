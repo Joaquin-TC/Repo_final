{
 "cells": [
  {
   "cell_type": "code",
   "execution_count": 5,
   "id": "2544c54c",
   "metadata": {},
   "outputs": [
    {
     "data": {
      "text/html": [
       "<div>\n",
       "<style scoped>\n",
       "    .dataframe tbody tr th:only-of-type {\n",
       "        vertical-align: middle;\n",
       "    }\n",
       "\n",
       "    .dataframe tbody tr th {\n",
       "        vertical-align: top;\n",
       "    }\n",
       "\n",
       "    .dataframe thead th {\n",
       "        text-align: right;\n",
       "    }\n",
       "</style>\n",
       "<table border=\"1\" class=\"dataframe\">\n",
       "  <thead>\n",
       "    <tr style=\"text-align: right;\">\n",
       "      <th></th>\n",
       "      <th>Ubigeo</th>\n",
       "      <th>Departamento</th>\n",
       "      <th>Provincia</th>\n",
       "      <th>Distrito</th>\n",
       "      <th>Incidencia de pobreza total\\n (FGT0)</th>\n",
       "      <th>Incidencia de pobreza extrema</th>\n",
       "      <th>Brecha \\n(FGT1)</th>\n",
       "      <th>Severidad \\n(FGT2)</th>\n",
       "    </tr>\n",
       "  </thead>\n",
       "  <tbody>\n",
       "    <tr>\n",
       "      <th>0</th>\n",
       "      <td>010101</td>\n",
       "      <td>AMAZONAS</td>\n",
       "      <td>CHACHAPOYAS</td>\n",
       "      <td>CHACHAPOYAS                                   ...</td>\n",
       "      <td>21.528231</td>\n",
       "      <td>3.256639</td>\n",
       "      <td>5.546254</td>\n",
       "      <td>2.090416</td>\n",
       "    </tr>\n",
       "    <tr>\n",
       "      <th>1</th>\n",
       "      <td>010102</td>\n",
       "      <td>AMAZONAS</td>\n",
       "      <td>CHACHAPOYAS</td>\n",
       "      <td>ASUNCIÓN                                      ...</td>\n",
       "      <td>53.311419</td>\n",
       "      <td>15.892734</td>\n",
       "      <td>16.486481</td>\n",
       "      <td>6.898176</td>\n",
       "    </tr>\n",
       "    <tr>\n",
       "      <th>2</th>\n",
       "      <td>010103</td>\n",
       "      <td>AMAZONAS</td>\n",
       "      <td>CHACHAPOYAS</td>\n",
       "      <td>BALSAS                                        ...</td>\n",
       "      <td>55.566024</td>\n",
       "      <td>23.660956</td>\n",
       "      <td>19.175303</td>\n",
       "      <td>8.901853</td>\n",
       "    </tr>\n",
       "    <tr>\n",
       "      <th>3</th>\n",
       "      <td>010104</td>\n",
       "      <td>AMAZONAS</td>\n",
       "      <td>CHACHAPOYAS</td>\n",
       "      <td>CHETO                                         ...</td>\n",
       "      <td>72.286942</td>\n",
       "      <td>28.97079</td>\n",
       "      <td>26.337226</td>\n",
       "      <td>12.250607</td>\n",
       "    </tr>\n",
       "    <tr>\n",
       "      <th>4</th>\n",
       "      <td>010105</td>\n",
       "      <td>AMAZONAS</td>\n",
       "      <td>CHACHAPOYAS</td>\n",
       "      <td>CHILIQUÍN                                     ...</td>\n",
       "      <td>59.828437</td>\n",
       "      <td>23.782609</td>\n",
       "      <td>19.079313</td>\n",
       "      <td>8.140015</td>\n",
       "    </tr>\n",
       "  </tbody>\n",
       "</table>\n",
       "</div>"
      ],
      "text/plain": [
       "   Ubigeo Departamento    Provincia  \\\n",
       "0  010101     AMAZONAS  CHACHAPOYAS   \n",
       "1  010102     AMAZONAS  CHACHAPOYAS   \n",
       "2  010103     AMAZONAS  CHACHAPOYAS   \n",
       "3  010104     AMAZONAS  CHACHAPOYAS   \n",
       "4  010105     AMAZONAS  CHACHAPOYAS   \n",
       "\n",
       "                                            Distrito  \\\n",
       "0  CHACHAPOYAS                                   ...   \n",
       "1  ASUNCIÓN                                      ...   \n",
       "2  BALSAS                                        ...   \n",
       "3  CHETO                                         ...   \n",
       "4  CHILIQUÍN                                     ...   \n",
       "\n",
       "   Incidencia de pobreza total\\n (FGT0) Incidencia de pobreza extrema  \\\n",
       "0                             21.528231                      3.256639   \n",
       "1                             53.311419                     15.892734   \n",
       "2                             55.566024                     23.660956   \n",
       "3                             72.286942                      28.97079   \n",
       "4                             59.828437                     23.782609   \n",
       "\n",
       "   Brecha \\n(FGT1)  Severidad \\n(FGT2)  \n",
       "0         5.546254            2.090416  \n",
       "1        16.486481            6.898176  \n",
       "2        19.175303            8.901853  \n",
       "3        26.337226           12.250607  \n",
       "4        19.079313            8.140015  "
      ]
     },
     "execution_count": 5,
     "metadata": {},
     "output_type": "execute_result"
    }
   ],
   "source": [
    "#Importaremos la tabla\n",
    "import pandas as pd\n",
    "import os\n",
    "\n",
    "datadis=pd.read_excel(os.path.join('data','dataPerú.xlsx'),\n",
    "                     dtype={'Ubigeo':object})\n",
    "datadis.head()"
   ]
  },
  {
   "cell_type": "code",
   "execution_count": 8,
   "id": "f3340d80",
   "metadata": {},
   "outputs": [
    {
     "data": {
      "text/html": [
       "<div>\n",
       "<style scoped>\n",
       "    .dataframe tbody tr th:only-of-type {\n",
       "        vertical-align: middle;\n",
       "    }\n",
       "\n",
       "    .dataframe tbody tr th {\n",
       "        vertical-align: top;\n",
       "    }\n",
       "\n",
       "    .dataframe thead th {\n",
       "        text-align: right;\n",
       "    }\n",
       "</style>\n",
       "<table border=\"1\" class=\"dataframe\">\n",
       "  <thead>\n",
       "    <tr style=\"text-align: right;\">\n",
       "      <th></th>\n",
       "      <th>DEPARTAMEN</th>\n",
       "      <th>PROVINCIA</th>\n",
       "      <th>DISTRITO</th>\n",
       "      <th>INSTITUCIO</th>\n",
       "      <th>geometry</th>\n",
       "    </tr>\n",
       "  </thead>\n",
       "  <tbody>\n",
       "    <tr>\n",
       "      <th>0</th>\n",
       "      <td>TACNA</td>\n",
       "      <td>TACNA</td>\n",
       "      <td>CORONEL GREGORIO ALBARRACIN LANCHIPA</td>\n",
       "      <td>IGN</td>\n",
       "      <td>POLYGON ((-70.17413 -18.12896, -70.17461 -18.1...</td>\n",
       "    </tr>\n",
       "    <tr>\n",
       "      <th>1</th>\n",
       "      <td>TACNA</td>\n",
       "      <td>TACNA</td>\n",
       "      <td>POCOLLAY</td>\n",
       "      <td>IGN</td>\n",
       "      <td>POLYGON ((-69.93475 -17.92557, -69.90467 -17.9...</td>\n",
       "    </tr>\n",
       "    <tr>\n",
       "      <th>2</th>\n",
       "      <td>TACNA</td>\n",
       "      <td>TACNA</td>\n",
       "      <td>CALANA</td>\n",
       "      <td>IGN</td>\n",
       "      <td>POLYGON ((-70.11604 -17.91106, -70.11457 -17.9...</td>\n",
       "    </tr>\n",
       "    <tr>\n",
       "      <th>3</th>\n",
       "      <td>TACNA</td>\n",
       "      <td>TACNA</td>\n",
       "      <td>TACNA</td>\n",
       "      <td>IGN</td>\n",
       "      <td>POLYGON ((-70.31490 -17.94498, -70.30682 -17.9...</td>\n",
       "    </tr>\n",
       "    <tr>\n",
       "      <th>4</th>\n",
       "      <td>TACNA</td>\n",
       "      <td>TACNA</td>\n",
       "      <td>SAMA</td>\n",
       "      <td>IGN</td>\n",
       "      <td>POLYGON ((-70.42497 -17.88934, -70.48022 -17.9...</td>\n",
       "    </tr>\n",
       "  </tbody>\n",
       "</table>\n",
       "</div>"
      ],
      "text/plain": [
       "  DEPARTAMEN PROVINCIA                              DISTRITO INSTITUCIO  \\\n",
       "0      TACNA     TACNA  CORONEL GREGORIO ALBARRACIN LANCHIPA        IGN   \n",
       "1      TACNA     TACNA                              POCOLLAY        IGN   \n",
       "2      TACNA     TACNA                                CALANA        IGN   \n",
       "3      TACNA     TACNA                                 TACNA        IGN   \n",
       "4      TACNA     TACNA                                  SAMA        IGN   \n",
       "\n",
       "                                            geometry  \n",
       "0  POLYGON ((-70.17413 -18.12896, -70.17461 -18.1...  \n",
       "1  POLYGON ((-69.93475 -17.92557, -69.90467 -17.9...  \n",
       "2  POLYGON ((-70.11604 -17.91106, -70.11457 -17.9...  \n",
       "3  POLYGON ((-70.31490 -17.94498, -70.30682 -17.9...  \n",
       "4  POLYGON ((-70.42497 -17.88934, -70.48022 -17.9...  "
      ]
     },
     "execution_count": 8,
     "metadata": {},
     "output_type": "execute_result"
    }
   ],
   "source": [
    "# el mapa es el siguiente\n",
    "os.environ['USE_PYGEOS'] = '0'\n",
    "import geopandas as gpd\n",
    "datadismap=gpd.read_file(os.path.join('maps','DistritosMap'))\n",
    "datadismap.head()"
   ]
  },
  {
   "cell_type": "code",
   "execution_count": 9,
   "id": "2cd01229",
   "metadata": {},
   "outputs": [],
   "source": [
    "#Realizamos, si es necesario, una limpieza y un formateo\n",
    "#Verificamos que todos los nombres estén escritos igualmente \n",
    "capitalizeColumns=lambda x: x.str.upper().str.strip()\n",
    "#Convertimos todos los nombres en mayúsculas\n",
    "datadis[['Provincia','Distrito']]=datadis[['Provincia','Distrito']].apply(capitalizeColumns)\n",
    "datadismap[['PROVINCIA','DISTRITO']]=datadismap[['PROVINCIA','DISTRITO']].apply(capitalizeColumns)"
   ]
  },
  {
   "cell_type": "code",
   "execution_count": 10,
   "id": "fae983e9",
   "metadata": {},
   "outputs": [],
   "source": [
    "import unidecode\n",
    "#Para eliminar símbolos especiales\n",
    "byePunctuation=lambda x: unidecode.unidecode(x)\n",
    "datadis[['Provincia','Distrito']]=datadis[['Provincia','Distrito']].applymap(byePunctuation)\n",
    "datadismap[['PROVINCIA','DISTRITO']]=datadismap[['PROVINCIA','DISTRITO']].applymap(byePunctuation)"
   ]
  },
  {
   "cell_type": "code",
   "execution_count": 11,
   "id": "1fe85445",
   "metadata": {},
   "outputs": [
    {
     "data": {
      "text/plain": [
       "(1836, 1874)"
      ]
     },
     "execution_count": 11,
     "metadata": {},
     "output_type": "execute_result"
    }
   ],
   "source": [
    "#Debemos tener un número de filas iguales\n",
    "len(datadis.Distrito),len(datadismap.DISTRITO)"
   ]
  },
  {
   "cell_type": "code",
   "execution_count": 12,
   "id": "a1bf7b8d",
   "metadata": {},
   "outputs": [
    {
     "data": {
      "text/plain": [
       "(150, 152)"
      ]
     },
     "execution_count": 12,
     "metadata": {},
     "output_type": "execute_result"
    }
   ],
   "source": [
    "#Debemos verificar que no haya repetidos porque si es así, no funcionará\n",
    "datadis.Distrito.duplicated().sum(),datadismap.DISTRITO.duplicated().sum()"
   ]
  },
  {
   "cell_type": "code",
   "execution_count": 14,
   "id": "339e8d2b",
   "metadata": {},
   "outputs": [],
   "source": [
    "#Añadimos columnas para diferenciar distritos, ya que algunos son repetidos\n",
    "# concatenating\n",
    "datadis['provDist']=[\"+\".join(pd) for pd in zip (datadis.Provincia,datadis.Distrito)]\n",
    "datadismap['provDist']=[\"+\".join(pd) for pd in zip (datadismap.PROVINCIA,datadismap.DISTRITO)]"
   ]
  },
  {
   "cell_type": "code",
   "execution_count": 15,
   "id": "6f602416",
   "metadata": {},
   "outputs": [],
   "source": [
    "#Cambiando los slashes, guiones arriba y abajo por espacios simples\n",
    "datadis.provDist=datadis.provDist.str.replace(\"\\-|\\_|\\s+\",\" \",regex=True)\n",
    "datadismap.provDist=datadismap.provDist.str.replace(\"\\-|\\_|\\s+\",\" \",regex=True)"
   ]
  },
  {
   "cell_type": "code",
   "execution_count": 16,
   "id": "a642f3a5",
   "metadata": {},
   "outputs": [
    {
     "data": {
      "text/plain": [
       "0    CHACHAPOYAS+CHACHAPOYAS\n",
       "1       CHACHAPOYAS+ASUNCION\n",
       "2         CHACHAPOYAS+BALSAS\n",
       "3          CHACHAPOYAS+CHETO\n",
       "4      CHACHAPOYAS+CHILIQUIN\n",
       "Name: provDist, dtype: object"
      ]
     },
     "execution_count": 16,
     "metadata": {},
     "output_type": "execute_result"
    }
   ],
   "source": [
    "#Así se vería la nueva columna\n",
    "# the new column looks like this:\n",
    "datadis['provDist'].head()"
   ]
  },
  {
   "cell_type": "code",
   "execution_count": null,
   "id": "23ff1028",
   "metadata": {},
   "outputs": [],
   "source": []
  }
 ],
 "metadata": {
  "kernelspec": {
   "display_name": "Python 3 (ipykernel)",
   "language": "python",
   "name": "python3"
  },
  "language_info": {
   "codemirror_mode": {
    "name": "ipython",
    "version": 3
   },
   "file_extension": ".py",
   "mimetype": "text/x-python",
   "name": "python",
   "nbconvert_exporter": "python",
   "pygments_lexer": "ipython3",
   "version": "3.10.10"
  }
 },
 "nbformat": 4,
 "nbformat_minor": 5
}
